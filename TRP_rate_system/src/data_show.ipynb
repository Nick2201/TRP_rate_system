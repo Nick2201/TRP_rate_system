{
 "cells": [
  {
   "attachments": {},
   "cell_type": "markdown",
   "metadata": {},
   "source": [
    "# All PREPARE"
   ]
  },
  {
   "attachments": {},
   "cell_type": "markdown",
   "metadata": {},
   "source": [
    "## IMPORT Data and libraries"
   ]
  },
  {
   "cell_type": "code",
   "execution_count": 125,
   "metadata": {},
   "outputs": [],
   "source": [
    "import pandas as pd \n",
    "import numpy as np\n",
    "from pathlib import Path\n",
    "import openpyxl\n"
   ]
  },
  {
   "cell_type": "code",
   "execution_count": 126,
   "metadata": {},
   "outputs": [],
   "source": [
    "docs_folder = Path(Path.cwd()/'docs')\n",
    "data_upload = Path(docs_folder/ 'Выгрузка.xlsx')\n",
    "data_plan = Path(docs_folder/ 'План.xlsx')\n",
    "df_upload_raw = pd.read_excel(data_upload)"
   ]
  },
  {
   "attachments": {},
   "cell_type": "markdown",
   "metadata": {},
   "source": [
    "## PREPARE DATA 1 df_upload"
   ]
  },
  {
   "cell_type": "code",
   "execution_count": 127,
   "metadata": {},
   "outputs": [],
   "source": [
    "df_upload_raw = pd.read_excel(data_upload,date_format=['Дата'])\n",
    "df_upload_raw['Время начала (5-29)'] = pd.to_datetime(df_upload_raw['Время начала (5-29)'], format=\"%H:%M:%S\").dt.time\n",
    "df_upload_raw = df_upload_raw.rename(columns={\n",
    "    'Ролик ID выхода'               :'ID_release',\n",
    "    'Дата'                          :'date',\n",
    "    'Время начала (5-29)'           :'time_begin',\n",
    "    'Блок Распространение'          :'distribution_ch',\n",
    "    'Ролик Тип'                     :'promo_video',\n",
    "    \"Ролик Ожидаемая длительность\"  :'promo_video_duration',\n",
    "    'Ролик Тип позиции в блоке'     :'promo_video_position',\n",
    "    \"Ролик ID\"                      :'promo_video_ID',\n",
    "    'Телекомпания'                  :'telecomp',\n",
    "    \"TVR All 25-55\"                 :'TVR'\n",
    "\n",
    "})\n",
    "df_upload_raw[['promo_video_duration','TVR']] = df_upload_raw[['promo_video_duration','TVR']].apply(pd.to_numeric)\n",
    "df_upload_raw['month'] = df_upload_raw.date.dt.month\n",
    "# df_upload_raw.distribution_ch.value_counts()\n",
    "\n"
   ]
  },
  {
   "attachments": {},
   "cell_type": "markdown",
   "metadata": {},
   "source": [
    "## PREPARE DATA 2 data_plan"
   ]
  },
  {
   "cell_type": "code",
   "execution_count": 128,
   "metadata": {},
   "outputs": [],
   "source": [
    "df_data_plan = pd.read_excel(data_plan)\n"
   ]
  },
  {
   "cell_type": "code",
   "execution_count": 129,
   "metadata": {},
   "outputs": [],
   "source": [
    "def mapping_df(df_input):\n",
    "    b_ind = df_data_plan.columns.get_loc('Бюджет')\n",
    "    trp_ind = df_data_plan.columns.get_loc('TRP')-1\n",
    "\n",
    "    bud = ['Бюджет' for i in range(trp_ind-b_ind+1)]\n",
    "    trp = ['TRP' for i in range(trp_ind-b_ind+1)]\n",
    "    df_data_plan.columns = df_data_plan.iloc[0,:]\n",
    "    df_data_plan.drop(0,inplace=True)\n",
    "    der = df_data_plan.T\n",
    "\n",
    "    df_data_plan.index=df_data_plan.Телеканал\n",
    "    new = df_data_plan.drop(columns='Телеканал').T\n",
    "    # new['type'] = bud+trp\n",
    "\n",
    "    new_1 = new.rename(columns={0:\"month\"})\n",
    "    new_1 = new_1.apply(pd.to_numeric)\n",
    "   \n",
    "    df_plan, df_result = np.split(new_1, 2)\n",
    "    return df_plan.T,df_result.T\n"
   ]
  },
  {
   "cell_type": "code",
   "execution_count": 130,
   "metadata": {},
   "outputs": [],
   "source": [
    "# Split by Two DF: budjet and trp\n",
    "df_budget,df_trp_raw= mapping_df(df_data_plan)"
   ]
  },
  {
   "cell_type": "code",
   "execution_count": 131,
   "metadata": {},
   "outputs": [],
   "source": [
    "df_trp = df_trp_raw\n",
    "df_trp.rename(columns={'Телеканал':'telecomp'})\n",
    "\n",
    "month_rus   = ['Январь'\t,'Февраль',\t'Март','Апрель','Май','Июнь','Июль','Август','Сентябрь','Октябрь','Ноябрь','Декабрь']\n",
    "month_numb  = list(range(1,13))\n",
    "\n",
    "df_trp = df_trp.rename(columns=dict(zip(month_rus,month_numb))).reset_index()"
   ]
  },
  {
   "cell_type": "code",
   "execution_count": 132,
   "metadata": {},
   "outputs": [
    {
     "data": {
      "text/html": [
       "<div>\n",
       "<style scoped>\n",
       "    .dataframe tbody tr th:only-of-type {\n",
       "        vertical-align: middle;\n",
       "    }\n",
       "\n",
       "    .dataframe tbody tr th {\n",
       "        vertical-align: top;\n",
       "    }\n",
       "\n",
       "    .dataframe thead th {\n",
       "        text-align: right;\n",
       "    }\n",
       "</style>\n",
       "<table border=\"1\" class=\"dataframe\">\n",
       "  <thead>\n",
       "    <tr style=\"text-align: right;\">\n",
       "      <th></th>\n",
       "      <th>telecomp</th>\n",
       "      <th>month</th>\n",
       "      <th>TVR</th>\n",
       "    </tr>\n",
       "  </thead>\n",
       "  <tbody>\n",
       "    <tr>\n",
       "      <th>0</th>\n",
       "      <td>ПЕРВЫЙ КАНАЛ</td>\n",
       "      <td>1</td>\n",
       "      <td>53.7164</td>\n",
       "    </tr>\n",
       "    <tr>\n",
       "      <th>1</th>\n",
       "      <td>ПЕРВЫЙ КАНАЛ</td>\n",
       "      <td>3</td>\n",
       "      <td>59.0239</td>\n",
       "    </tr>\n",
       "    <tr>\n",
       "      <th>2</th>\n",
       "      <td>ПЕРВЫЙ КАНАЛ</td>\n",
       "      <td>5</td>\n",
       "      <td>57.9546</td>\n",
       "    </tr>\n",
       "    <tr>\n",
       "      <th>3</th>\n",
       "      <td>ПЕРВЫЙ КАНАЛ</td>\n",
       "      <td>7</td>\n",
       "      <td>50.7154</td>\n",
       "    </tr>\n",
       "    <tr>\n",
       "      <th>4</th>\n",
       "      <td>ПЕРВЫЙ КАНАЛ</td>\n",
       "      <td>9</td>\n",
       "      <td>52.7137</td>\n",
       "    </tr>\n",
       "    <tr>\n",
       "      <th>5</th>\n",
       "      <td>ПЕРВЫЙ КАНАЛ</td>\n",
       "      <td>11</td>\n",
       "      <td>46.6152</td>\n",
       "    </tr>\n",
       "    <tr>\n",
       "      <th>6</th>\n",
       "      <td>ПЯТНИЦА</td>\n",
       "      <td>1</td>\n",
       "      <td>157.3909</td>\n",
       "    </tr>\n",
       "  </tbody>\n",
       "</table>\n",
       "</div>"
      ],
      "text/plain": [
       "       telecomp  month       TVR\n",
       "0  ПЕРВЫЙ КАНАЛ      1   53.7164\n",
       "1  ПЕРВЫЙ КАНАЛ      3   59.0239\n",
       "2  ПЕРВЫЙ КАНАЛ      5   57.9546\n",
       "3  ПЕРВЫЙ КАНАЛ      7   50.7154\n",
       "4  ПЕРВЫЙ КАНАЛ      9   52.7137\n",
       "5  ПЕРВЫЙ КАНАЛ     11   46.6152\n",
       "6       ПЯТНИЦА      1  157.3909"
      ]
     },
     "execution_count": 132,
     "metadata": {},
     "output_type": "execute_result"
    }
   ],
   "source": [
    "# Группировка\n",
    "df_group_upload= (\n",
    "    df_upload_raw[['telecomp','TVR','month']]\n",
    "    .groupby(['telecomp','month'])\n",
    "    .agg(sum).reset_index()\n",
    "    )\n",
    "df_group_upload.head(7)"
   ]
  },
  {
   "cell_type": "code",
   "execution_count": 133,
   "metadata": {},
   "outputs": [],
   "source": [
    "# Preparing\n",
    "melted_df1 = pd.melt(df_trp, id_vars='Телеканал', var_name='month', value_name='plan')\n",
    "\n",
    "\n",
    "melted_df1.rename(columns={'Телеканал': 'telecomp'}, inplace=True)\n",
    "melted_df1['telecomp'] = melted_df1['telecomp'].str.upper()\n",
    "\n",
    "melted_df1 = melted_df1.query('month !=\"Все месяцы\"')"
   ]
  },
  {
   "attachments": {},
   "cell_type": "markdown",
   "metadata": {},
   "source": [
    "# Аналитика"
   ]
  },
  {
   "attachments": {},
   "cell_type": "markdown",
   "metadata": {},
   "source": [
    "## Tasks 1\n",
    " - [x] Задача: понять, выполняется ли в каждой кампании плановый объём TRP\n",
    "    - general_rating рейтинг = 6\n",
    " - [x] Задача: по всем кампаниям\n",
    "    - rating_each_company\n",
    "    - rating_analog\n",
    "    - [x] каналов дистрибъюции 1 == Сетевой : 3966\n",
    "      - df_upload_raw.distribution_ch.value_counts()"
   ]
  },
  {
   "cell_type": "code",
   "execution_count": 134,
   "metadata": {},
   "outputs": [],
   "source": [
    "def calculate_rating(deviation):\n",
    "    if deviation > 5:\n",
    "        rating = 10\n",
    "    elif deviation == 0:\n",
    "        rating = 8\n",
    "    else:\n",
    "        rating = 1 + (deviation / 5) * 7 \n",
    "    return round(rating,2)"
   ]
  },
  {
   "cell_type": "code",
   "execution_count": 135,
   "metadata": {},
   "outputs": [
    {
     "data": {
      "text/html": [
       "<div>\n",
       "<style scoped>\n",
       "    .dataframe tbody tr th:only-of-type {\n",
       "        vertical-align: middle;\n",
       "    }\n",
       "\n",
       "    .dataframe tbody tr th {\n",
       "        vertical-align: top;\n",
       "    }\n",
       "\n",
       "    .dataframe thead th {\n",
       "        text-align: right;\n",
       "    }\n",
       "</style>\n",
       "<table border=\"1\" class=\"dataframe\">\n",
       "  <thead>\n",
       "    <tr style=\"text-align: right;\">\n",
       "      <th></th>\n",
       "      <th>telecomp</th>\n",
       "      <th>TVR_deviation</th>\n",
       "      <th>rating_</th>\n",
       "    </tr>\n",
       "  </thead>\n",
       "  <tbody>\n",
       "    <tr>\n",
       "      <th>0</th>\n",
       "      <td>ПЯТНИЦА</td>\n",
       "      <td>7.219726</td>\n",
       "      <td>10.00</td>\n",
       "    </tr>\n",
       "    <tr>\n",
       "      <th>1</th>\n",
       "      <td>РЕН ТВ</td>\n",
       "      <td>2.345781</td>\n",
       "      <td>4.28</td>\n",
       "    </tr>\n",
       "    <tr>\n",
       "      <th>2</th>\n",
       "      <td>РОССИЯ 1</td>\n",
       "      <td>-0.177142</td>\n",
       "      <td>0.75</td>\n",
       "    </tr>\n",
       "    <tr>\n",
       "      <th>3</th>\n",
       "      <td>СТС</td>\n",
       "      <td>11.486599</td>\n",
       "      <td>10.00</td>\n",
       "    </tr>\n",
       "    <tr>\n",
       "      <th>4</th>\n",
       "      <td>ТНТ</td>\n",
       "      <td>-6.253938</td>\n",
       "      <td>-7.76</td>\n",
       "    </tr>\n",
       "  </tbody>\n",
       "</table>\n",
       "</div>"
      ],
      "text/plain": [
       "   telecomp  TVR_deviation  rating_\n",
       "0   ПЯТНИЦА       7.219726    10.00\n",
       "1    РЕН ТВ       2.345781     4.28\n",
       "2  РОССИЯ 1      -0.177142     0.75\n",
       "3       СТС      11.486599    10.00\n",
       "4       ТНТ      -6.253938    -7.76"
      ]
     },
     "execution_count": 135,
     "metadata": {},
     "output_type": "execute_result"
    }
   ],
   "source": [
    "def make_compare_df(group_by_value):\n",
    "    df_compare=(\n",
    "        pd.merge(melted_df1,df_group_upload,on=['telecomp','month'])\n",
    "        .groupby(group_by_value).agg(\n",
    "            plan=('plan','sum'),\n",
    "            fact=('TVR','sum')).reset_index()\n",
    "        )\n",
    "    df_compare[['fact','plan']] = df_compare[['fact','plan']].apply(pd.to_numeric)\n",
    "    df_compare['TVR_deviation'] = (df_compare['fact'] - df_compare['plan']) / df_compare['plan'] * 100\n",
    "\n",
    "\n",
    "    return df_compare\n",
    "\n",
    "df_compare=(\n",
    "    pd.merge(melted_df1,df_group_upload,on=['telecomp','month'])\n",
    "    .groupby(['telecomp']).agg(\n",
    "        plan=('plan','sum'),\n",
    "        fact=('TVR','sum')).reset_index()\n",
    "    )\n",
    "\n",
    "df_compare['TVR_deviation'] = (df_compare['fact'] - df_compare['plan']) / df_compare['plan'] * 100\n",
    "categories = [-float('inf'),-10,-5,0,5,10, float('inf')]\n",
    "ratings = [0, 2, 4, 6, 8,10]\n",
    "\n",
    "\n",
    "df_compare['client_rating'] = pd.cut(df_compare['TVR_deviation'], bins=categories, labels=ratings)\n",
    "customer_rating = df_compare[['telecomp','TVR_deviation']].rename(columns={'TVR_deviation':'customer_rating'})\n",
    "rating_each_company= df_compare[['telecomp','client_rating']]\n",
    "\n",
    "df_compare['rating_'] = df_compare['TVR_deviation'].apply(calculate_rating)\n",
    "df_compare[['telecomp','TVR_deviation','rating_']]"
   ]
  },
  {
   "cell_type": "code",
   "execution_count": 136,
   "metadata": {},
   "outputs": [
    {
     "data": {
      "text/html": [
       "<div>\n",
       "<style scoped>\n",
       "    .dataframe tbody tr th:only-of-type {\n",
       "        vertical-align: middle;\n",
       "    }\n",
       "\n",
       "    .dataframe tbody tr th {\n",
       "        vertical-align: top;\n",
       "    }\n",
       "\n",
       "    .dataframe thead th {\n",
       "        text-align: right;\n",
       "    }\n",
       "</style>\n",
       "<table border=\"1\" class=\"dataframe\">\n",
       "  <thead>\n",
       "    <tr style=\"text-align: right;\">\n",
       "      <th></th>\n",
       "      <th>month</th>\n",
       "      <th>TVR_deviation</th>\n",
       "      <th>rating_</th>\n",
       "    </tr>\n",
       "  </thead>\n",
       "  <tbody>\n",
       "    <tr>\n",
       "      <th>0</th>\n",
       "      <td>January</td>\n",
       "      <td>16.818429</td>\n",
       "      <td>10.00</td>\n",
       "    </tr>\n",
       "    <tr>\n",
       "      <th>2</th>\n",
       "      <td>May</td>\n",
       "      <td>6.368616</td>\n",
       "      <td>10.00</td>\n",
       "    </tr>\n",
       "    <tr>\n",
       "      <th>1</th>\n",
       "      <td>March</td>\n",
       "      <td>3.354543</td>\n",
       "      <td>5.70</td>\n",
       "    </tr>\n",
       "    <tr>\n",
       "      <th>4</th>\n",
       "      <td>September</td>\n",
       "      <td>3.137887</td>\n",
       "      <td>5.39</td>\n",
       "    </tr>\n",
       "    <tr>\n",
       "      <th>5</th>\n",
       "      <td>November</td>\n",
       "      <td>-2.792764</td>\n",
       "      <td>-2.91</td>\n",
       "    </tr>\n",
       "    <tr>\n",
       "      <th>3</th>\n",
       "      <td>July</td>\n",
       "      <td>-4.382761</td>\n",
       "      <td>-5.14</td>\n",
       "    </tr>\n",
       "  </tbody>\n",
       "</table>\n",
       "</div>"
      ],
      "text/plain": [
       "       month  TVR_deviation  rating_\n",
       "0    January      16.818429    10.00\n",
       "2        May       6.368616    10.00\n",
       "1      March       3.354543     5.70\n",
       "4  September       3.137887     5.39\n",
       "5   November      -2.792764    -2.91\n",
       "3       July      -4.382761    -5.14"
      ]
     },
     "execution_count": 136,
     "metadata": {},
     "output_type": "execute_result"
    }
   ],
   "source": [
    "import calendar\n",
    "by_month= make_compare_df(group_by_value=\"month\")[['month',\"TVR_deviation\",\"\"]]\n",
    "by_month['rating_'] = by_month['TVR_deviation'].apply(calculate_rating)\n",
    "by_month['month'] = by_month['month'].map(lambda x: calendar.month_name[x])\n",
    "by_month.sort_values(by='rating_',ascending=False)\n"
   ]
  },
  {
   "cell_type": "code",
   "execution_count": 137,
   "metadata": {},
   "outputs": [
    {
     "data": {
      "text/plain": [
       "<Axes: xlabel='month', ylabel='rating_'>"
      ]
     },
     "execution_count": 137,
     "metadata": {},
     "output_type": "execute_result"
    },
    {
     "data": {
      "image/png": "[encoded data removed]",
      "text/plain": [
       "<Figure size 640x480 with 1 Axes>"
      ]
     },
     "metadata": {},
     "output_type": "display_data"
    }
   ],
   "source": [
    "sns.barplot(data=by_month,x='month',y='rating_')"
   ]
  },
  {
   "cell_type": "code",
   "execution_count": 157,
   "metadata": {},
   "outputs": [
    {
     "data": {
      "text/plain": [
       "<Axes: xlabel='month', ylabel='rating_'>"
      ]
     },
     "execution_count": 157,
     "metadata": {},
     "output_type": "execute_result"
    },
    {
     "data": {
      "image/png": "[encoded data removed]",
      "text/plain": [
       "<Figure size 640x480 with 1 Axes>"
      ]
     },
     "metadata": {},
     "output_type": "display_data"
    }
   ],
   "source": [
    "import calendar\n",
    "by_month= make_compare_df(group_by_value=[\"month\",'telecomp'])[['telecomp','month',\"TVR_deviation\"]]\n",
    "by_month['rating_'] = by_month['TVR_deviation'].apply(calculate_rating)\n",
    "by_month['month'] = by_month['month'].map(lambda x: calendar.month_name[x])\n",
    "# by_month.sort_values(by='rating_',ascending=False)\n",
    "sns.barplot(data=by_month,x='month',y='rating_',hue=\"telecomp\")\n"
   ]
  },
  {
   "cell_type": "code",
   "execution_count": 138,
   "metadata": {},
   "outputs": [
    {
     "data": {
      "text/plain": [
       "telecomp         Итого\n",
       "client_rating        6\n",
       "Name: 5, dtype: object"
      ]
     },
     "execution_count": 138,
     "metadata": {},
     "output_type": "execute_result"
    }
   ],
   "source": [
    "\n",
    "totals = df_compare.sum(numeric_only=True)\n",
    "\n",
    "totals['telecomp'] = 'Итого'\n",
    "df_compare = pd.concat([df_compare, pd.DataFrame(totals).T], ignore_index=True)    \n",
    "\n",
    "\n",
    "df_compare[['fact','plan']] = df_compare[['fact','plan']].apply(pd.to_numeric)\n",
    "df_compare['TVR_deviation'] = (df_compare['fact'] - df_compare['plan']) / df_compare['plan'] * 100\n",
    "df_compare\n",
    "\n",
    "categories = [-float('inf'),-10,-5,0,5,10, float('inf')]\n",
    "ratings = [0, 2, 4, 6, 8,10]\n",
    "\n",
    "df_compare = df_compare[['telecomp','plan','fact','TVR_deviation']]\n",
    "\n",
    "df_compare['client_rating'] = pd.cut(df_compare['TVR_deviation'], bins=categories, labels=ratings)\n",
    "df_compare\n",
    "customer_rating = df_compare[['telecomp','client_rating']].rename(columns={'TVR_deviation':'customer_rating'})\n",
    "general_rating = customer_rating.iloc[-1,:]\n",
    "\n",
    "general_rating"
   ]
  },
  {
   "cell_type": "code",
   "execution_count": 139,
   "metadata": {},
   "outputs": [],
   "source": [
    "import matplotlib.pyplot as plt\n",
    "import seaborn as sns"
   ]
  },
  {
   "attachments": {},
   "cell_type": "markdown",
   "metadata": {},
   "source": [
    "## Графики \n"
   ]
  },
  {
   "cell_type": "code",
   "execution_count": 140,
   "metadata": {},
   "outputs": [
    {
     "data": {
      "text/plain": [
       "<Axes: xlabel='month', ylabel='TVR_deviation'>"
      ]
     },
     "execution_count": 140,
     "metadata": {},
     "output_type": "execute_result"
    },
    {
     "data": {
      "image/png": "[encoded data removed]",
      "text/plain": [
       "<Figure size 640x480 with 1 Axes>"
      ]
     },
     "metadata": {},
     "output_type": "display_data"
    }
   ],
   "source": [
    "# telecomp\tmonth\t\n",
    "df_compare_comp=(\n",
    "    pd.merge(melted_df1,df_group_upload,on=['telecomp','month'])\n",
    "    .groupby(['telecomp','month']).agg(\n",
    "        plan=('plan','sum'),\n",
    "        fact=('TVR','sum')).reset_index()\n",
    "    )\n",
    "\n",
    "df_compare_comp[['fact','plan']] = df_compare_comp[['fact','plan']].apply(pd.to_numeric)\n",
    "df_compare_comp['TVR_deviation'] = (df_compare_comp['fact'] - df_compare_comp['plan']) / df_compare_comp['plan'] * 100\n",
    "df = df_compare_comp[['telecomp','TVR_deviation','month','fact']]\n",
    "df\n",
    "sns.lineplot(data=df.sort_values(by='month'),x='month',y='TVR_deviation',hue='telecomp')\n"
   ]
  },
  {
   "cell_type": "code",
   "execution_count": 141,
   "metadata": {},
   "outputs": [
    {
     "data": {
      "text/plain": [
       "<Axes: xlabel='telecomp', ylabel='audience'>"
      ]
     },
     "execution_count": 141,
     "metadata": {},
     "output_type": "execute_result"
    },
    {
     "data": {
      "image/png": "[encoded data removed]",
      "text/plain": [
       "<Figure size 640x480 with 1 Axes>"
      ]
     },
     "metadata": {},
     "output_type": "display_data"
    }
   ],
   "source": [
    "df.groupby('telecomp',as_index=False).agg(audience=(\"fact\",'sum'))\n",
    "\n",
    "sns.barplot(\n",
    "    data=df.groupby('telecomp',as_index=False)\n",
    "        .agg(audience=(\"fact\",'sum'))\n",
    "        .sort_values(by=\"audience\"),\n",
    "    y=\"audience\",\n",
    "    x=\"telecomp\",\n",
    "    )"
   ]
  },
  {
   "attachments": {},
   "cell_type": "markdown",
   "metadata": {},
   "source": [
    "# Рейтинг компаний друг относительно друга\n",
    "## 1. quantile"
   ]
  },
  {
   "cell_type": "code",
   "execution_count": 15,
   "metadata": {},
   "outputs": [
    {
     "data": {
      "text/html": [
       "<div>\n",
       "<style scoped>\n",
       "    .dataframe tbody tr th:only-of-type {\n",
       "        vertical-align: middle;\n",
       "    }\n",
       "\n",
       "    .dataframe tbody tr th {\n",
       "        vertical-align: top;\n",
       "    }\n",
       "\n",
       "    .dataframe thead th {\n",
       "        text-align: right;\n",
       "    }\n",
       "</style>\n",
       "<table border=\"1\" class=\"dataframe\">\n",
       "  <thead>\n",
       "    <tr style=\"text-align: right;\">\n",
       "      <th></th>\n",
       "      <th>telecomp</th>\n",
       "      <th>TVR_deviation</th>\n",
       "      <th>client_rating</th>\n",
       "      <th>rating_by_distribute</th>\n",
       "    </tr>\n",
       "  </thead>\n",
       "  <tbody>\n",
       "    <tr>\n",
       "      <th>0</th>\n",
       "      <td>ПЯТНИЦА</td>\n",
       "      <td>7.219726</td>\n",
       "      <td>8</td>\n",
       "      <td>8</td>\n",
       "    </tr>\n",
       "    <tr>\n",
       "      <th>1</th>\n",
       "      <td>РЕН ТВ</td>\n",
       "      <td>2.345781</td>\n",
       "      <td>6</td>\n",
       "      <td>4</td>\n",
       "    </tr>\n",
       "    <tr>\n",
       "      <th>2</th>\n",
       "      <td>РОССИЯ 1</td>\n",
       "      <td>-0.177142</td>\n",
       "      <td>4</td>\n",
       "      <td>2</td>\n",
       "    </tr>\n",
       "    <tr>\n",
       "      <th>3</th>\n",
       "      <td>СТС</td>\n",
       "      <td>11.486599</td>\n",
       "      <td>10</td>\n",
       "      <td>10</td>\n",
       "    </tr>\n",
       "    <tr>\n",
       "      <th>4</th>\n",
       "      <td>ТНТ</td>\n",
       "      <td>-6.253938</td>\n",
       "      <td>2</td>\n",
       "      <td>0</td>\n",
       "    </tr>\n",
       "    <tr>\n",
       "      <th>5</th>\n",
       "      <td>Итого</td>\n",
       "      <td>3.802142</td>\n",
       "      <td>6</td>\n",
       "      <td>6</td>\n",
       "    </tr>\n",
       "  </tbody>\n",
       "</table>\n",
       "</div>"
      ],
      "text/plain": [
       "   telecomp  TVR_deviation client_rating  rating_by_distribute\n",
       "0   ПЯТНИЦА       7.219726             8                     8\n",
       "1    РЕН ТВ       2.345781             6                     4\n",
       "2  РОССИЯ 1      -0.177142             4                     2\n",
       "3       СТС      11.486599            10                    10\n",
       "4       ТНТ      -6.253938             2                     0\n",
       "5     Итого       3.802142             6                     6"
      ]
     },
     "execution_count": 15,
     "metadata": {},
     "output_type": "execute_result"
    }
   ],
   "source": [
    "# by every month quanilte\n",
    "df = df_compare\n",
    "q10 = df['TVR_deviation'].quantile(0.1)\n",
    "q90 = df['TVR_deviation'].quantile(0.9)\n",
    "\n",
    "df['rating_by_distribute'] = np.where(df['TVR_deviation'] < q10, 0, np.where(df['TVR_deviation'] > q90, 10, ((df['TVR_deviation'] - q10) / (q90 - q10)) * 10))\n",
    "\n",
    "# Rounding ratings to nearest integer\n",
    "df['rating_by_distribute'] = df['rating_by_distribute'].round().astype(int)\n",
    "rating_analog = df[['telecomp',\"TVR_deviation\",\"client_rating\",'rating_by_distribute']]\n",
    "rating_analog"
   ]
  },
  {
   "attachments": {},
   "cell_type": "markdown",
   "metadata": {},
   "source": [
    "# Plotly"
   ]
  },
  {
   "cell_type": "code",
   "execution_count": null,
   "metadata": {},
   "outputs": [],
   "source": [
    "import plotly\n",
    "import plotly.graph_objs as go\n",
    "import plotly.express as px\n",
    "from plotly.subplots import make_subplots"
   ]
  }
 ],
 "metadata": {
  "kernelspec": {
   "display_name": ".venv",
   "language": "python",
   "name": "python3"
  },
  "language_info": {
   "codemirror_mode": {
    "name": "ipython",
    "version": 3
   },
   "file_extension": ".py",
   "mimetype": "text/x-python",
   "name": "python",
   "nbconvert_exporter": "python",
   "pygments_lexer": "ipython3",
   "version": "3.10.5"
  },
  "orig_nbformat": 4
 },
 "nbformat": 4,
 "nbformat_minor": 2
}
